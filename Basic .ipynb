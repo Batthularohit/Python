{
 "cells": [
  {
   "cell_type": "code",
   "execution_count": 1,
   "id": "33208d46",
   "metadata": {},
   "outputs": [
    {
     "name": "stdout",
     "output_type": "stream",
     "text": [
      "enter number123\n",
      "7626\n"
     ]
    }
   ],
   "source": [
    "# sum of 1 to n\n",
    "\n",
    "n = int(input(\"enter number\"))\n",
    "sum = 0\n",
    "for i in range(1,n+1):\n",
    "    sum = sum +i\n",
    "print(sum)"
   ]
  },
  {
   "cell_type": "code",
   "execution_count": 2,
   "id": "54c85c2a",
   "metadata": {},
   "outputs": [
    {
     "name": "stdout",
     "output_type": "stream",
     "text": [
      "15\n"
     ]
    }
   ],
   "source": [
    "\n",
    "def summ(n):\n",
    "    total = 0\n",
    "    for i in range(1,n+1):     \n",
    "        total = total+i  \n",
    "    return total\n",
    "\n",
    "print(summ(5))"
   ]
  },
  {
   "cell_type": "code",
   "execution_count": 3,
   "id": "61f5fbe0",
   "metadata": {},
   "outputs": [
    {
     "name": "stdout",
     "output_type": "stream",
     "text": [
      "Enter stringrohit\n",
      "\n",
      "['t', 'i', 'h', 'o', 'r']\n",
      "tihor\n"
     ]
    }
   ],
   "source": [
    "# reverse a string\n",
    "strr = input(\"Enter string\")\n",
    "# print(reverse(strr))\n",
    "print()\n",
    "a = reversed(strr)\n",
    "print(list(a))\n",
    "print(strr[::-1])\n",
    "# print(strr.reverse())"
   ]
  },
  {
   "cell_type": "code",
   "execution_count": 4,
   "id": "eb37f1dd",
   "metadata": {},
   "outputs": [
    {
     "name": "stdout",
     "output_type": "stream",
     "text": [
      "[4, 3, 2, 1]\n"
     ]
    }
   ],
   "source": [
    "# The reversed() method computes the reverse of a given sequence object and returns it in the form of a list.\n",
    "# reversed ---> returns list\n",
    "\n",
    "# reverse()-- changes the list\n",
    "\n",
    "lst = [1,2,3,4]\n",
    "lst.reverse()\n",
    "print(lst)"
   ]
  },
  {
   "cell_type": "code",
   "execution_count": 7,
   "id": "840d33f4",
   "metadata": {},
   "outputs": [
    {
     "name": "stdout",
     "output_type": "stream",
     "text": [
      "Enter string MadaM\n",
      "Pallindrome\n"
     ]
    }
   ],
   "source": [
    "# palindrame or not string\n",
    "strr = input(\"Enter string \")\n",
    "if strr == strr[::-1]:\n",
    "    print(\"Pallindrome\")\n",
    "else:\n",
    "    print(\"Not palindrome\")"
   ]
  },
  {
   "cell_type": "code",
   "execution_count": 10,
   "id": "1c431237",
   "metadata": {},
   "outputs": [
    {
     "name": "stdout",
     "output_type": "stream",
     "text": [
      "120\n"
     ]
    }
   ],
   "source": [
    "# factorial of num\n",
    "def fac(n):\n",
    "    if n == 1:\n",
    "        return 1\n",
    "    else:\n",
    "        return n*fac(n-1)\n",
    "print(fac(5))"
   ]
  },
  {
   "cell_type": "code",
   "execution_count": 12,
   "id": "a405bae6",
   "metadata": {},
   "outputs": [
    {
     "name": "stdout",
     "output_type": "stream",
     "text": [
      "153\n",
      "Not Armstrong\n"
     ]
    }
   ],
   "source": [
    "# armstrong\n",
    "# 153 = 1**3 + 5 **3 + 3**3\n",
    "def arm(n):\n",
    "    rem = 0\n",
    "    sum = 0\n",
    "    rem = n%10\n",
    "    sum = sum + rem**3\n",
    "    n = n//10\n",
    "    return sum\n",
    "\n",
    "inp = int(input())\n",
    "a = arm(inp)\n",
    "if inp == a:\n",
    "    print(\"armstrong\")\n",
    "else:\n",
    "    print(\"Not Armstrong\")\n",
    "\n",
    "\n",
    "\n",
    "    "
   ]
  },
  {
   "cell_type": "code",
   "execution_count": 13,
   "id": "ef03a261",
   "metadata": {},
   "outputs": [
    {
     "name": "stdout",
     "output_type": "stream",
     "text": [
      "153\n",
      "armstrong\n"
     ]
    }
   ],
   "source": [
    "def armm(n):\n",
    "    strn = str(n)\n",
    "    sum = 0\n",
    "    for i in strn:\n",
    "        sum = sum + int(i)*int(i)*int(i)\n",
    "    return sum\n",
    "\n",
    "inp = int(input())\n",
    "a = armm(inp)\n",
    "if inp == a: \n",
    "    print(\"armstrong\")\n",
    "else:\n",
    "    print(\"Not Armstrong\")       "
   ]
  },
  {
   "cell_type": "code",
   "execution_count": 1,
   "id": "b4c5013e",
   "metadata": {},
   "outputs": [],
   "source": [
    "# https://www.complexsql.com/complex-sql-queries-examples-with-answers/"
   ]
  },
  {
   "cell_type": "code",
   "execution_count": 2,
   "id": "2ffd5ceb",
   "metadata": {},
   "outputs": [
    {
     "data": {
      "text/plain": [
       "2401"
      ]
     },
     "execution_count": 2,
     "metadata": {},
     "output_type": "execute_result"
    }
   ],
   "source": [
    "7**4\n"
   ]
  },
  {
   "cell_type": "code",
   "execution_count": 11,
   "id": "2334d5c4",
   "metadata": {},
   "outputs": [
    {
     "name": "stdout",
     "output_type": "stream",
     "text": [
      "['H', 'i', ' ', 't', 'h', 'e', 'r', 'e', ' ', 'S', 'a', 'm', '!']\n",
      "Hi there Sam!\n",
      "['Hi', 'there', 'Sam!']\n",
      "['Hi', 'there', 'Sam!']\n"
     ]
    }
   ],
   "source": [
    "s = \"Hi there Sam!\"\n",
    "ss = list(s)\n",
    "print(ss)\n",
    "print(s)\n",
    "sss = s.split(\" \")\n",
    "print(sss)\n",
    "st = \"Hi,there,Sam!\"\n",
    "ssst = st.split(',')\n",
    "print(ssst)"
   ]
  },
  {
   "cell_type": "code",
   "execution_count": 12,
   "id": "ef183c16",
   "metadata": {},
   "outputs": [
    {
     "data": {
      "text/plain": [
       "['H', 'i', ' ', 't', 'h', 'e', 'r', 'e', ' ', 'S', 'a', 'm', '!']"
      ]
     },
     "execution_count": 12,
     "metadata": {},
     "output_type": "execute_result"
    }
   ],
   "source": [
    "ss"
   ]
  },
  {
   "cell_type": "code",
   "execution_count": 14,
   "id": "cdb3c2da",
   "metadata": {},
   "outputs": [
    {
     "name": "stdout",
     "output_type": "stream",
     "text": [
      "Hi there Sam!\n"
     ]
    }
   ],
   "source": [
    "strr = ''\n",
    "for i in ss:\n",
    "    strr = strr+i\n",
    "    \n",
    "print(strr)\n",
    "     "
   ]
  },
  {
   "cell_type": "code",
   "execution_count": 17,
   "id": "e9f64566",
   "metadata": {},
   "outputs": [
    {
     "name": "stdout",
     "output_type": "stream",
     "text": [
      "The diameter of Earth is 12742 Kilometers.\n",
      "The diameter of Earth is 12742 Kilometers.\n"
     ]
    }
   ],
   "source": [
    "planet = \"Earth\"\n",
    "diameter = 12742\n",
    "print(\"The diameter of {} is {} Kilometers.\".format(planet,diameter))\n",
    "print(f\"The diameter of {planet} is {diameter} Kilometers.\")"
   ]
  },
  {
   "cell_type": "code",
   "execution_count": 1,
   "id": "1c2319df",
   "metadata": {},
   "outputs": [
    {
     "name": "stdout",
     "output_type": "stream",
     "text": [
      "Hello World\n"
     ]
    }
   ],
   "source": [
    "print(\"Hello World\")"
   ]
  },
  {
   "cell_type": "code",
   "execution_count": 6,
   "id": "56261cf3",
   "metadata": {},
   "outputs": [
    {
     "name": "stdout",
     "output_type": "stream",
     "text": [
      "2\n",
      "3\n",
      "5\n"
     ]
    }
   ],
   "source": [
    "a = int(input())\n",
    "b = int(input())\n",
    "print(a+b)"
   ]
  },
  {
   "cell_type": "code",
   "execution_count": 8,
   "id": "890154f3",
   "metadata": {},
   "outputs": [
    {
     "name": "stdout",
     "output_type": "stream",
     "text": [
      "2\n",
      "3\n"
     ]
    }
   ],
   "source": [
    "p, q = int(input()), int(input())"
   ]
  },
  {
   "cell_type": "code",
   "execution_count": 10,
   "id": "9626d187",
   "metadata": {},
   "outputs": [
    {
     "name": "stdout",
     "output_type": "stream",
     "text": [
      "2023\n",
      "3\n",
      "     March 2023\n",
      "Mo Tu We Th Fr Sa Su\n",
      "       1  2  3  4  5\n",
      " 6  7  8  9 10 11 12\n",
      "13 14 15 16 17 18 19\n",
      "20 21 22 23 24 25 26\n",
      "27 28 29 30 31\n",
      "\n"
     ]
    }
   ],
   "source": [
    "import calendar\n",
    "y = int(input())\n",
    "m = int(input())\n",
    "print(calendar.month(y,m))"
   ]
  },
  {
   "cell_type": "code",
   "execution_count": 13,
   "id": "0db73b03",
   "metadata": {},
   "outputs": [
    {
     "name": "stdout",
     "output_type": "stream",
     "text": [
      "3\n",
      "cube of number is 27\n",
      "cube of number is 27.0\n",
      "cube of number is 27\n"
     ]
    }
   ],
   "source": [
    "import math\n",
    "num = int(input())\n",
    "print('cube of number is',num**3)\n",
    "print('cube of number is',math.pow(num,3))\n",
    "print('cube of number is',int(math.pow(num,3)))"
   ]
  },
  {
   "cell_type": "code",
   "execution_count": 16,
   "id": "7d13769a",
   "metadata": {},
   "outputs": [
    {
     "name": "stdout",
     "output_type": "stream",
     "text": [
      "123\n",
      "1\n",
      "the gratest number is num1 123\n"
     ]
    }
   ],
   "source": [
    "num1 = int(input())\n",
    "num2 = int(input())\n",
    "if num1>num2:\n",
    "    print(\"the gratest number is num1\",num1)\n",
    "else: \n",
    "    print(\"the gratest number is num2\",num2)\n",
    "    \n"
   ]
  },
  {
   "cell_type": "code",
   "execution_count": 20,
   "id": "f7830a8d",
   "metadata": {},
   "outputs": [
    {
     "name": "stdout",
     "output_type": "stream",
     "text": [
      "123\n",
      "1234\n",
      "the gratest number is num2 1234\n"
     ]
    }
   ],
   "source": [
    "def maximum(num1,num2):\n",
    "    if num1>num2:\n",
    "        print(\"the gratest number is num1\",num1)\n",
    "    else: \n",
    "        print(\"the gratest number is num2\",num2)\n",
    "x = int(input())\n",
    "y = int(input())\n",
    "maximum(x,y)\n"
   ]
  },
  {
   "cell_type": "code",
   "execution_count": 22,
   "id": "09e46b2a",
   "metadata": {},
   "outputs": [
    {
     "name": "stdout",
     "output_type": "stream",
     "text": [
      "12\n",
      "1 2 3 4 5 6 7 8 9 10 11 "
     ]
    }
   ],
   "source": [
    "# natural numbers for a number n\n",
    "n = int(input())\n",
    "for i in range(1,n):\n",
    "    print(i,end = ' ')"
   ]
  },
  {
   "cell_type": "code",
   "execution_count": 23,
   "id": "d99b66af",
   "metadata": {},
   "outputs": [
    {
     "name": "stdout",
     "output_type": "stream",
     "text": [
      "2022\n",
      "2022 is not a leap year\n"
     ]
    }
   ],
   "source": [
    "year = int(input())\n",
    "# century year divided by 400 is leap year\n",
    "if (year % 400 == 0) and (year % 100 == 0):\n",
    "    print(\"{0} is a leap year\".format(year))\n",
    "# not divided by 100 means not a century year\n",
    "# year divided by 4 is a leap year\n",
    "elif (year % 4 ==0) and (year % 100 != 0):\n",
    "    print(\"{0} is a leap year\".format(year))\n",
    "# if not divided by both 400 (century year) and 4 (not century year)\n",
    "# year is not leap year\n",
    "else:\n",
    "    print(\"{0} is not a leap year\".format(year))"
   ]
  },
  {
   "cell_type": "code",
   "execution_count": 24,
   "id": "32f139a3",
   "metadata": {},
   "outputs": [
    {
     "name": "stdout",
     "output_type": "stream",
     "text": [
      "5\n",
      "1\n",
      "3\n",
      "5\n"
     ]
    }
   ],
   "source": [
    "# odd numbers to a particular number\n",
    "n = int(input())\n",
    "for i in range(1,n+1):\n",
    "    if i%2 != 0:\n",
    "        print(i)"
   ]
  },
  {
   "cell_type": "code",
   "execution_count": 25,
   "id": "a094ac49",
   "metadata": {},
   "outputs": [
    {
     "name": "stdout",
     "output_type": "stream",
     "text": [
      "123\n",
      "Positive\n"
     ]
    }
   ],
   "source": [
    "# positive or negative\n",
    "n = int(input())\n",
    "if n<0:\n",
    "    print(\"Negative\")\n",
    "elif n>0:\n",
    "    print(\"Positive\")\n",
    "    "
   ]
  },
  {
   "cell_type": "code",
   "execution_count": 28,
   "id": "f0414677",
   "metadata": {},
   "outputs": [
    {
     "name": "stdout",
     "output_type": "stream",
     "text": [
      "Profit is  9900\n"
     ]
    }
   ],
   "source": [
    "def main():\n",
    "    \n",
    "# profit or loss\n",
    "def profit_or_loss(cp,sp):\n",
    "    if cp > sp:\n",
    "        loss = cp - sp\n",
    "        print(\"Loss is \",loss)\n",
    "    elif sp > cp:\n",
    "        profit = sp - cp\n",
    "        print(\"Profit is \",profit)\n",
    "            \n",
    "profit_or_loss(100,10000)"
   ]
  },
  {
   "cell_type": "code",
   "execution_count": 29,
   "id": "a1473eb7",
   "metadata": {},
   "outputs": [
    {
     "name": "stdout",
     "output_type": "stream",
     "text": [
      "25\n",
      "5.0\n"
     ]
    }
   ],
   "source": [
    "# square root\n",
    "import math\n",
    "n = int(input())\n",
    "sqrt = math.sqrt(n)\n",
    "print(sqrt)"
   ]
  },
  {
   "cell_type": "code",
   "execution_count": 33,
   "id": "53f2b154",
   "metadata": {},
   "outputs": [
    {
     "name": "stdout",
     "output_type": "stream",
     "text": [
      "1402.4448000000011\n"
     ]
    }
   ],
   "source": [
    "# compound intrest\n",
    "p = 5400\n",
    "r = 8\n",
    "n = 3\n",
    "ci = (p*(1+r/100)**n) - p\n",
    "print(ci)"
   ]
  },
  {
   "cell_type": "code",
   "execution_count": 36,
   "id": "bb71e690",
   "metadata": {},
   "outputs": [
    {
     "name": "stdout",
     "output_type": "stream",
     "text": [
      "55\n",
      "55 is divisible by both 5 and 11\n"
     ]
    }
   ],
   "source": [
    "n = int(input())\n",
    "if(n%5 == 0) and (n%11 == 0):\n",
    "    print(\"{} is divisible by both 5 and 11\".format(n))"
   ]
  },
  {
   "cell_type": "code",
   "execution_count": 37,
   "id": "2763fd69",
   "metadata": {},
   "outputs": [
    {
     "name": "stdout",
     "output_type": "stream",
     "text": [
      "2\n",
      "3\n",
      "8\n"
     ]
    }
   ],
   "source": [
    "base = int(input())\n",
    "exp = int(input())\n",
    "pow =  math.pow(base,exp)\n",
    "print(int(pow))"
   ]
  },
  {
   "cell_type": "code",
   "execution_count": 40,
   "id": "d6ab4ce0",
   "metadata": {},
   "outputs": [
    {
     "name": "stdout",
     "output_type": "stream",
     "text": [
      "5\n",
      " 5 * 1 = 5\n",
      " 5 * 2 = 10\n",
      " 5 * 3 = 15\n",
      " 5 * 4 = 20\n",
      " 5 * 5 = 25\n",
      " 5 * 6 = 30\n",
      " 5 * 7 = 35\n",
      " 5 * 8 = 40\n",
      " 5 * 9 = 45\n",
      " 5 * 10 = 50\n"
     ]
    }
   ],
   "source": [
    "num = int(input())\n",
    "def mul(n):\n",
    "    for i in range(1,11):\n",
    "        print(f\" {n} * {i} = {n*i}\")\n",
    "mul(num)"
   ]
  },
  {
   "cell_type": "code",
   "execution_count": 41,
   "id": "cbed8c49",
   "metadata": {},
   "outputs": [
    {
     "name": "stdout",
     "output_type": "stream",
     "text": [
      "Insert coefficient a: 2\n",
      "Insert coefficient b: 3\n",
      "Insert coefficient c: 4\n",
      "The function has two complex (conjugate) roots: (-0.75+1.1989578808281798j)  and (-0.75-1.1989578808281798j)\n"
     ]
    }
   ],
   "source": [
    "import math\n",
    "\n",
    "a = float(input(\"Insert coefficient a: \"))\n",
    "b = float(input(\"Insert coefficient b: \"))\n",
    "c = float(input(\"Insert coefficient c: \"))\n",
    "\n",
    "discriminant = b**2 - 4 * a * c\n",
    "\n",
    "if discriminant >= 0:\n",
    "    x_1=(-b+math.sqrt(discriminant))/2*a\n",
    "    x_2=(-b-math.sqrt(discriminant))/2*a\n",
    "else:\n",
    "    x_1= complex((-b/(2*a)),math.sqrt(-discriminant)/(2*a))\n",
    "    x_2= complex((-b/(2*a)),-math.sqrt(-discriminant)/(2*a))\n",
    "\n",
    "if discriminant > 0:\n",
    "    print(\"The function has two distinct real roots: {} and {}\".format(x_1,x_2))\n",
    "elif discriminant == 0:\n",
    "    print(\"The function has one double root: \", x_1)\n",
    "else:\n",
    "    print(\"The function has two complex (conjugate) roots: {}  and {}\".format(x_1,x_2))"
   ]
  },
  {
   "cell_type": "code",
   "execution_count": 44,
   "id": "f06e3e3d",
   "metadata": {},
   "outputs": [
    {
     "name": "stdout",
     "output_type": "stream",
     "text": [
      "12 11 10 9 8 7 6 5 4 3 2 1 "
     ]
    }
   ],
   "source": [
    "def reverse(n):\n",
    "    for i in range(n,0,-1):\n",
    "        print(i,end = ' ')\n",
    "        \n",
    "if __name__ == '__main__':\n",
    "    reverse(12)"
   ]
  },
  {
   "cell_type": "code",
   "execution_count": 46,
   "id": "a5a5bf7d",
   "metadata": {},
   "outputs": [
    {
     "name": "stdout",
     "output_type": "stream",
     "text": [
      "Input some integers to calculate their sum and average. Input 0 to exit.\n",
      "1\n",
      "2\n",
      "3\n",
      "4\n",
      "5\n",
      "0\n",
      "Average and Sum of the above numbers are:  3.0 15.0\n"
     ]
    }
   ],
   "source": [
    "print(\"Input some integers to calculate their sum and average. Input 0 to exit.\")\n",
    "\n",
    "count = 0\n",
    "sum = 0.0\n",
    "number = 1\n",
    "\n",
    "while number != 0:\n",
    "\tnumber = int(input(\"\"))\n",
    "\tsum = sum + number\n",
    "\tcount += 1\n",
    "\n",
    "if count == 0:\n",
    "\tprint(\"Input some numbers\")\n",
    "else:\n",
    "\tprint(\"Average and Sum of the above numbers are: \", sum / (count-1), sum)\n",
    "\t"
   ]
  },
  {
   "cell_type": "code",
   "execution_count": 47,
   "id": "0d0f7d32",
   "metadata": {},
   "outputs": [
    {
     "name": "stdout",
     "output_type": "stream",
     "text": [
      "Enter the number of units consumed : 123\n",
      "Electricity Bill :  491.25\n"
     ]
    }
   ],
   "source": [
    "tuc=int(input(\"Enter the number of units consumed : \"))\n",
    "if tuc>500:\n",
    "    amount=tuc*9.25\n",
    "    surcharge=80\n",
    "elif tuc>300:\n",
    "    amount=tuc*7.75\n",
    "    surcharge=70\n",
    "elif tuc>200:\n",
    "    amount=tuc*5.25\n",
    "    surcharge=50\n",
    "elif tuc>100:\n",
    "    amount=tuc*3.75\n",
    "    surcharge=30\n",
    "else:\n",
    "    amount=tuc*2.25\n",
    "    surcharge=20\n",
    "billTotal=amount+surcharge\n",
    "print(\"Electricity Bill : \",billTotal)"
   ]
  },
  {
   "cell_type": "code",
   "execution_count": 48,
   "id": "b3028528",
   "metadata": {},
   "outputs": [
    {
     "name": "stdout",
     "output_type": "stream",
     "text": [
      "Enter a number: 2\n",
      "The sum of natural number = 3\n"
     ]
    }
   ],
   "source": [
    "# Python program to find sum of n natural numbers\n",
    "\n",
    "# take input\n",
    "num = int(input('Enter a number: '))\n",
    "\n",
    "# find sum of natural number\n",
    "sum = 0\n",
    "x = 1\n",
    "while x <= num:\n",
    " sum += x \n",
    " x += 1\n",
    "\n",
    "# display result\n",
    "print('The sum of natural number =', sum)"
   ]
  },
  {
   "cell_type": "code",
   "execution_count": 1,
   "id": "1b264cee",
   "metadata": {},
   "outputs": [
    {
     "name": "stdout",
     "output_type": "stream",
     "text": [
      "hi\n"
     ]
    }
   ],
   "source": [
    "print('hi')"
   ]
  },
  {
   "cell_type": "code",
   "execution_count": 2,
   "id": "33aeaf37",
   "metadata": {},
   "outputs": [
    {
     "name": "stdout",
     "output_type": "stream",
     "text": [
      "4\n"
     ]
    }
   ],
   "source": [
    "dict = {}\n",
    "dict[1] = 1\n",
    "dict['1'] = 2\n",
    "dict[1] +=1\n",
    "sum = 0\n",
    "for k in dict:\n",
    "    sum +=dict[k]\n",
    "    \n",
    "print(sum)"
   ]
  },
  {
   "cell_type": "code",
   "execution_count": 3,
   "id": "b045a863",
   "metadata": {},
   "outputs": [
    {
     "name": "stdout",
     "output_type": "stream",
     "text": [
      "3\n"
     ]
    }
   ],
   "source": [
    "coun = {}\n",
    "def add(cou):\n",
    "    if cou in coun:\n",
    "        coun[cou] +=1\n",
    "    else:\n",
    "        coun[cou] =1\n",
    "        \n",
    "add('China')\n",
    "add('Japan')\n",
    "add('china')\n",
    "print(len(coun))\n",
    "            "
   ]
  },
  {
   "cell_type": "code",
   "execution_count": 4,
   "id": "e488a07b",
   "metadata": {},
   "outputs": [
    {
     "data": {
      "text/plain": [
       "111"
      ]
     },
     "execution_count": 4,
     "metadata": {},
     "output_type": "execute_result"
    }
   ],
   "source": [
    "class Acc:\n",
    "    def __init__(self,id):\n",
    "        self.id = id\n",
    "        id = 555\n",
    "acc = Acc(111)\n",
    "acc.id"
   ]
  },
  {
   "cell_type": "code",
   "execution_count": 5,
   "id": "196c5848",
   "metadata": {},
   "outputs": [
    {
     "data": {
      "text/plain": [
       "12"
      ]
     },
     "execution_count": 5,
     "metadata": {},
     "output_type": "execute_result"
    }
   ],
   "source": [
    "ch1= ['le','qu','pra','co']\n",
    "ch2 = ch1\n",
    "ch3 = ch1[:]\n",
    "\n",
    "ch2[0] = 'code'\n",
    "\n",
    "ch3[1] = 'Mcq'\n",
    "count = 0\n",
    "for c in (ch1,ch2,ch3):\n",
    "    if c[0] =='code':\n",
    "        count +=1\n",
    "    if c[1] == 'Mcq':\n",
    "        count +=10\n",
    "        \n",
    "count"
   ]
  },
  {
   "cell_type": "code",
   "execution_count": 6,
   "id": "4e77a7a8",
   "metadata": {},
   "outputs": [
    {
     "data": {
      "text/plain": [
       "5"
      ]
     },
     "execution_count": 6,
     "metadata": {},
     "output_type": "execute_result"
    }
   ],
   "source": [
    "def ad(lc):\n",
    "    lc +=[10]\n",
    "    \n",
    "mylist = [10,20,30,40]\n",
    "ad(mylist)\n",
    "len(mylist)"
   ]
  },
  {
   "cell_type": "code",
   "execution_count": 8,
   "id": "8732ec39",
   "metadata": {},
   "outputs": [
    {
     "data": {
      "text/plain": [
       "4"
      ]
     },
     "execution_count": 8,
     "metadata": {},
     "output_type": "execute_result"
    }
   ],
   "source": [
    "c = 1\n",
    "def do():\n",
    "    global c\n",
    "    \n",
    "for i in (1,2,3):\n",
    "    c +=1\n",
    "do()\n",
    "c"
   ]
  },
  {
   "cell_type": "code",
   "execution_count": 9,
   "id": "f0d02ded",
   "metadata": {},
   "outputs": [
    {
     "name": "stdout",
     "output_type": "stream",
     "text": [
      "3\n"
     ]
    }
   ],
   "source": [
    "a = True\n",
    "b = False\n",
    "c = False\n",
    "if not a or b:\n",
    "    print(1)\n",
    "elif not a or not b and c:\n",
    "    print(2)\n",
    "    \n",
    "elif not a or b or not b and a:\n",
    "    print(3)\n",
    "else:\n",
    "    print(4)"
   ]
  },
  {
   "cell_type": "code",
   "execution_count": 11,
   "id": "238f736d",
   "metadata": {},
   "outputs": [
    {
     "ename": "SyntaxError",
     "evalue": "invalid syntax (Temp/ipykernel_9280/1951518882.py, line 3)",
     "output_type": "error",
     "traceback": [
      "\u001b[1;36m  File \u001b[1;32m\"C:\\Users\\228001\\AppData\\Local\\Temp/ipykernel_9280/1951518882.py\"\u001b[1;36m, line \u001b[1;32m3\u001b[0m\n\u001b[1;33m    else:\u001b[0m\n\u001b[1;37m    ^\u001b[0m\n\u001b[1;31mSyntaxError\u001b[0m\u001b[1;31m:\u001b[0m invalid syntax\n"
     ]
    }
   ],
   "source": [
    "if a or b and c:\n",
    "    print(\"HELLO\")\n",
    "    else:\n",
    "        print('hello')"
   ]
  },
  {
   "cell_type": "code",
   "execution_count": 12,
   "id": "fa1dec2e",
   "metadata": {},
   "outputs": [
    {
     "data": {
      "text/plain": [
       "24"
      ]
     },
     "execution_count": 12,
     "metadata": {},
     "output_type": "execute_result"
    }
   ],
   "source": [
    "r = lambda q: q*2\n",
    "s = lambda q: q*3\n",
    "x = 2\n",
    "x = r(x)\n",
    "x = r(x)"
   ]
  },
  {
   "cell_type": "code",
   "execution_count": null,
   "id": "d461d25b",
   "metadata": {},
   "outputs": [],
   "source": [
    "x = 1\n",
    "while True:\n",
    "    if x% 5 == 0:\n",
    "        break\n",
    "        print(x)\n",
    "        x +=1"
   ]
  },
  {
   "cell_type": "code",
   "execution_count": null,
   "id": "74f44fcd",
   "metadata": {},
   "outputs": [],
   "source": [
    "all([2,4,0,6])"
   ]
  },
  {
   "cell_type": "code",
   "execution_count": null,
   "id": "985816d5",
   "metadata": {},
   "outputs": [],
   "source": []
  }
 ],
 "metadata": {
  "kernelspec": {
   "display_name": "Python 3 (ipykernel)",
   "language": "python",
   "name": "python3"
  },
  "language_info": {
   "codemirror_mode": {
    "name": "ipython",
    "version": 3
   },
   "file_extension": ".py",
   "mimetype": "text/x-python",
   "name": "python",
   "nbconvert_exporter": "python",
   "pygments_lexer": "ipython3",
   "version": "3.9.7"
  }
 },
 "nbformat": 4,
 "nbformat_minor": 5
}
